{
 "cells": [
  {
   "cell_type": "markdown",
   "id": "1b795d50",
   "metadata": {},
   "source": [
    "Jessica Ratovondranto\n",
    "\n",
    "Doris Allamani\n",
    "\n",
    "Master 2: Quantitative finance"
   ]
  },
  {
   "cell_type": "code",
   "execution_count": 1,
   "id": "eead70f4",
   "metadata": {},
   "outputs": [],
   "source": [
    "import numpy as np\n",
    "import pandas as pd\n",
    "import matplotlib.pyplot as plt\n",
    "import seaborn as sns\n",
    "from sklearn.linear_model import LogisticRegression\n",
    "from sklearn.cluster import KMeans\n",
    "import plotly.express as px"
   ]
  },
  {
   "cell_type": "code",
   "execution_count": 2,
   "id": "8f67f778",
   "metadata": {},
   "outputs": [
    {
     "data": {
      "text/html": [
       "<div>\n",
       "<style scoped>\n",
       "    .dataframe tbody tr th:only-of-type {\n",
       "        vertical-align: middle;\n",
       "    }\n",
       "\n",
       "    .dataframe tbody tr th {\n",
       "        vertical-align: top;\n",
       "    }\n",
       "\n",
       "    .dataframe thead th {\n",
       "        text-align: right;\n",
       "    }\n",
       "</style>\n",
       "<table border=\"1\" class=\"dataframe\">\n",
       "  <thead>\n",
       "    <tr style=\"text-align: right;\">\n",
       "      <th></th>\n",
       "      <th>midprice</th>\n",
       "      <th>id</th>\n",
       "      <th>buy/sell</th>\n",
       "      <th>answeredprice</th>\n",
       "      <th>deal</th>\n",
       "    </tr>\n",
       "  </thead>\n",
       "  <tbody>\n",
       "    <tr>\n",
       "      <th>0</th>\n",
       "      <td>97.9990</td>\n",
       "      <td>4</td>\n",
       "      <td>1</td>\n",
       "      <td>98.016</td>\n",
       "      <td>0.0</td>\n",
       "    </tr>\n",
       "    <tr>\n",
       "      <th>1</th>\n",
       "      <td>97.9988</td>\n",
       "      <td>4</td>\n",
       "      <td>-1</td>\n",
       "      <td>98.001</td>\n",
       "      <td>1.0</td>\n",
       "    </tr>\n",
       "    <tr>\n",
       "      <th>2</th>\n",
       "      <td>97.9951</td>\n",
       "      <td>1</td>\n",
       "      <td>-1</td>\n",
       "      <td>97.979</td>\n",
       "      <td>0.0</td>\n",
       "    </tr>\n",
       "    <tr>\n",
       "      <th>3</th>\n",
       "      <td>97.9971</td>\n",
       "      <td>1</td>\n",
       "      <td>1</td>\n",
       "      <td>97.990</td>\n",
       "      <td>1.0</td>\n",
       "    </tr>\n",
       "    <tr>\n",
       "      <th>4</th>\n",
       "      <td>97.9961</td>\n",
       "      <td>1</td>\n",
       "      <td>-1</td>\n",
       "      <td>97.978</td>\n",
       "      <td>0.0</td>\n",
       "    </tr>\n",
       "  </tbody>\n",
       "</table>\n",
       "</div>"
      ],
      "text/plain": [
       "   midprice  id  buy/sell  answeredprice  deal\n",
       "0   97.9990   4         1         98.016   0.0\n",
       "1   97.9988   4        -1         98.001   1.0\n",
       "2   97.9951   1        -1         97.979   0.0\n",
       "3   97.9971   1         1         97.990   1.0\n",
       "4   97.9961   1        -1         97.978   0.0"
      ]
     },
     "execution_count": 2,
     "metadata": {},
     "output_type": "execute_result"
    }
   ],
   "source": [
    "data = pd.read_csv(\"C:\\\\Users\\\\33620\\\\Downloads\\\\trading_data.csv\", index_col = None)\n",
    "data.drop('Unnamed: 0', axis =1, inplace = True)\n",
    "data.head()"
   ]
  },
  {
   "cell_type": "markdown",
   "id": "ff6703a8",
   "metadata": {},
   "source": [
    "#### Question 1:\n",
    "In this question we ignore the identity of clients and consider that they all have the same behaviour, i.e. $\\alpha^c$ and $\\beta^c$ are independent of c : we denote them by $\\alpha$ and $\\beta$.\n",
    "\n",
    "Write a notebook to estimate $\\alpha$ and $\\beta$ using the dataset, and then evaluate the probability of a trade for each of\n",
    "the last 200 requests (rows).\n"
   ]
  },
  {
   "cell_type": "code",
   "execution_count": 3,
   "id": "e2420b97",
   "metadata": {},
   "outputs": [
    {
     "name": "stdout",
     "output_type": "stream",
     "text": [
      "Wall time: 57.2 ms\n"
     ]
    }
   ],
   "source": [
    "%%time\n",
    "#create a price difference\n",
    "diff = np.empty(len(data))\n",
    "for i in range(len(data)):\n",
    "    if data[\"buy/sell\"][i]==1:#buy\n",
    "        diff[i] = data[\"answeredprice\"][i] - data[\"midprice\"][i]\n",
    "    else:#sell\n",
    "        diff[i] = data[\"midprice\"][i] - data[\"answeredprice\"][i]\n",
    "data[\"diff\"] = diff"
   ]
  },
  {
   "cell_type": "markdown",
   "id": "09d626aa",
   "metadata": {},
   "source": [
    "##### Create features (train data)"
   ]
  },
  {
   "cell_type": "code",
   "execution_count": 4,
   "id": "e5cec1f4",
   "metadata": {},
   "outputs": [],
   "source": [
    "data_train = data[data['deal'].isna()==False]"
   ]
  },
  {
   "cell_type": "code",
   "execution_count": 5,
   "id": "3972e2aa",
   "metadata": {},
   "outputs": [],
   "source": [
    "X_data_train = data_train[\"diff\"].values.reshape(-1,1)\n",
    "y_data_train = list(map(int,data_train[\"deal\"].values)) # This is to transform float data to int"
   ]
  },
  {
   "cell_type": "markdown",
   "id": "03dcd32a",
   "metadata": {},
   "source": [
    "#####  Create Logistic regression"
   ]
  },
  {
   "cell_type": "code",
   "execution_count": 6,
   "id": "eb42582c",
   "metadata": {},
   "outputs": [
    {
     "data": {
      "text/plain": [
       "LogisticRegression(penalty='none')"
      ]
     },
     "execution_count": 6,
     "metadata": {},
     "output_type": "execute_result"
    }
   ],
   "source": [
    "lr = LogisticRegression(penalty='none',random_state=None).fit(X_data_train, y_data_train)\n",
    "lr"
   ]
  },
  {
   "cell_type": "markdown",
   "id": "7acae59b",
   "metadata": {},
   "source": [
    "##### Estimate parameter"
   ]
  },
  {
   "cell_type": "code",
   "execution_count": 7,
   "id": "17787958",
   "metadata": {},
   "outputs": [
    {
     "name": "stdout",
     "output_type": "stream",
     "text": [
      "alpha:[-0.63275931]\n",
      "beta:[339.65335145]\n"
     ]
    }
   ],
   "source": [
    "print(\"alpha:{}\".format(-lr.intercept_))#estimation of alpha\n",
    "print(\"beta:{}\".format(-lr.coef_[0]) )#estimation of beta"
   ]
  },
  {
   "cell_type": "markdown",
   "id": "364a7615",
   "metadata": {},
   "source": [
    "##### Estimate the probability of trade "
   ]
  },
  {
   "cell_type": "code",
   "execution_count": 8,
   "id": "0af6b682",
   "metadata": {},
   "outputs": [],
   "source": [
    "test_data = data[data['deal'].isna()]#test set on the 200 last rows"
   ]
  },
  {
   "cell_type": "code",
   "execution_count": 72,
   "id": "26e86f60",
   "metadata": {},
   "outputs": [
    {
     "data": {
      "text/html": [
       "<div>\n",
       "<style scoped>\n",
       "    .dataframe tbody tr th:only-of-type {\n",
       "        vertical-align: middle;\n",
       "    }\n",
       "\n",
       "    .dataframe tbody tr th {\n",
       "        vertical-align: top;\n",
       "    }\n",
       "\n",
       "    .dataframe thead th {\n",
       "        text-align: right;\n",
       "    }\n",
       "</style>\n",
       "<table border=\"1\" class=\"dataframe\">\n",
       "  <thead>\n",
       "    <tr style=\"text-align: right;\">\n",
       "      <th></th>\n",
       "      <th>P('deal' = 0)</th>\n",
       "      <th>P('deal' = 1)</th>\n",
       "    </tr>\n",
       "  </thead>\n",
       "  <tbody>\n",
       "    <tr>\n",
       "      <th>0</th>\n",
       "      <td>0.241909</td>\n",
       "      <td>0.758091</td>\n",
       "    </tr>\n",
       "    <tr>\n",
       "      <th>1</th>\n",
       "      <td>0.003591</td>\n",
       "      <td>0.996409</td>\n",
       "    </tr>\n",
       "    <tr>\n",
       "      <th>2</th>\n",
       "      <td>0.995852</td>\n",
       "      <td>0.004148</td>\n",
       "    </tr>\n",
       "    <tr>\n",
       "      <th>3</th>\n",
       "      <td>0.012094</td>\n",
       "      <td>0.987906</td>\n",
       "    </tr>\n",
       "    <tr>\n",
       "      <th>4</th>\n",
       "      <td>0.037396</td>\n",
       "      <td>0.962604</td>\n",
       "    </tr>\n",
       "    <tr>\n",
       "      <th>...</th>\n",
       "      <td>...</td>\n",
       "      <td>...</td>\n",
       "    </tr>\n",
       "    <tr>\n",
       "      <th>195</th>\n",
       "      <td>0.295147</td>\n",
       "      <td>0.704853</td>\n",
       "    </tr>\n",
       "    <tr>\n",
       "      <th>196</th>\n",
       "      <td>0.992635</td>\n",
       "      <td>0.007365</td>\n",
       "    </tr>\n",
       "    <tr>\n",
       "      <th>197</th>\n",
       "      <td>0.921151</td>\n",
       "      <td>0.078849</td>\n",
       "    </tr>\n",
       "    <tr>\n",
       "      <th>198</th>\n",
       "      <td>0.085882</td>\n",
       "      <td>0.914118</td>\n",
       "    </tr>\n",
       "    <tr>\n",
       "      <th>199</th>\n",
       "      <td>0.955615</td>\n",
       "      <td>0.044385</td>\n",
       "    </tr>\n",
       "  </tbody>\n",
       "</table>\n",
       "<p>200 rows × 2 columns</p>\n",
       "</div>"
      ],
      "text/plain": [
       "     P('deal' = 0)  P('deal' = 1)\n",
       "0         0.241909       0.758091\n",
       "1         0.003591       0.996409\n",
       "2         0.995852       0.004148\n",
       "3         0.012094       0.987906\n",
       "4         0.037396       0.962604\n",
       "..             ...            ...\n",
       "195       0.295147       0.704853\n",
       "196       0.992635       0.007365\n",
       "197       0.921151       0.078849\n",
       "198       0.085882       0.914118\n",
       "199       0.955615       0.044385\n",
       "\n",
       "[200 rows x 2 columns]"
      ]
     },
     "execution_count": 72,
     "metadata": {},
     "output_type": "execute_result"
    }
   ],
   "source": [
    "X_test = test_data[\"diff\"].values.reshape(-1,1)\n",
    "result_proba = pd.DataFrame(lr.predict_proba(X_test))\n",
    "result_proba.rename(columns = {0:'P(\\'deal\\' = 0)', 1:'P(\\'deal\\' = 1)'}, inplace = True)\n",
    "result_proba"
   ]
  },
  {
   "cell_type": "markdown",
   "id": "096391d4",
   "metadata": {},
   "source": [
    "##### Confusion matrix"
   ]
  },
  {
   "cell_type": "code",
   "execution_count": 10,
   "id": "3a6367b7",
   "metadata": {},
   "outputs": [
    {
     "name": "stdout",
     "output_type": "stream",
     "text": [
      "confusion_matrix:[[848 105]\n",
      " [114 933]]\n"
     ]
    }
   ],
   "source": [
    "from sklearn.metrics import confusion_matrix\n",
    "confusion_mat = confusion_matrix(y_data_train, lr.predict(X_data_train))\n",
    "print(\"confusion_matrix:{}\".format(confusion_mat))"
   ]
  },
  {
   "cell_type": "markdown",
   "id": "24f21ba0",
   "metadata": {},
   "source": [
    "##### Plot confusion matrix"
   ]
  },
  {
   "cell_type": "code",
   "execution_count": 45,
   "id": "80f33b35",
   "metadata": {},
   "outputs": [
    {
     "data": {
      "image/png": "[encoded data removed]",
      "text/plain": [
       "<Figure size 864x288 with 1 Axes>"
      ]
     },
     "metadata": {
      "needs_background": "light"
     },
     "output_type": "display_data"
    }
   ],
   "source": [
    "T_or_F = [False, True]\n",
    "%matplotlib inline\n",
    "plt.subplots(figsize = (12,4))\n",
    "sns.heatmap(confusion_mat.T, square = True, annot = True, fmt = 'd', cbar = False, xticklabels =T_or_F, yticklabels = T_or_F)\n",
    "plt.xlabel('Actual').set_color('red')\n",
    "plt.ylabel('Predicted').set_color('red')\n",
    "plt.title('Confusion matrix').set_color('red')"
   ]
  },
  {
   "cell_type": "markdown",
   "id": "677c2b0e",
   "metadata": {},
   "source": [
    " On the left column, we have a total 848 + 105 classified as False, of which classifier predicted correctly 848 times which are true Negatives. However, the classifier predicted it wrongly 105 times, that are false negatives. On the right column, we have 114 + 933  classified as True.\n",
    " The classifier predicted wrongly 114 times, that the False positives. The classifier did predict 933 times, that the True positives"
   ]
  },
  {
   "cell_type": "markdown",
   "id": "9b6ff9fc",
   "metadata": {},
   "source": [
    "##### Accuracy, precision, F1_score, recall"
   ]
  },
  {
   "cell_type": "code",
   "execution_count": 12,
   "id": "29312498",
   "metadata": {},
   "outputs": [
    {
     "name": "stdout",
     "output_type": "stream",
     "text": [
      "Report:              precision    recall  f1-score   support\n",
      "\n",
      "           0       0.88      0.89      0.89       953\n",
      "           1       0.90      0.89      0.89      1047\n",
      "\n",
      "    accuracy                           0.89      2000\n",
      "   macro avg       0.89      0.89      0.89      2000\n",
      "weighted avg       0.89      0.89      0.89      2000\n",
      "\n"
     ]
    }
   ],
   "source": [
    "from sklearn.metrics import classification_report\n",
    "print(\"Report:{}\".format(classification_report(y_data_train, lr.predict(X_data_train))))"
   ]
  },
  {
   "cell_type": "raw",
   "id": "33577054",
   "metadata": {},
   "source": [
    "Accuracy:  0.89 means that our model is correct 89% of the time"
   ]
  },
  {
   "cell_type": "markdown",
   "id": "061811a1",
   "metadata": {
    "tags": []
   },
   "source": [
    "#### Question 2:\n",
    "We now consider client ids. Among the 4 clients, there are in fact two types of clients. Propose and code in the\n",
    "notebook a method that classifies the clients into two relevant groups as far as their behaviour is concerned."
   ]
  },
  {
   "cell_type": "markdown",
   "id": "0d95e2ee",
   "metadata": {},
   "source": [
    " This is not a supervised learning. By saying classify the clients into two groups, we need to do a clustering. But we\n",
    "don't have the target dataset as trainning y so it isn't a supervised learning task."
   ]
  },
  {
   "cell_type": "code",
   "execution_count": 13,
   "id": "b56b9cdb",
   "metadata": {},
   "outputs": [
    {
     "data": {
      "text/plain": [
       "{1, 2, 3, 4}"
      ]
     },
     "execution_count": 13,
     "metadata": {},
     "output_type": "execute_result"
    }
   ],
   "source": [
    "set(data['id'].values)"
   ]
  },
  {
   "cell_type": "code",
   "execution_count": 14,
   "id": "e22c4c4c",
   "metadata": {},
   "outputs": [],
   "source": [
    "data['differences'] = data['answeredprice'] - data['midprice']"
   ]
  },
  {
   "cell_type": "code",
   "execution_count": 15,
   "id": "2e4af1ce",
   "metadata": {},
   "outputs": [],
   "source": [
    "client1 = data[data['id']==1]\n",
    "client2 = data[data['id']==2]\n",
    "client3 = data[data['id']==3]\n",
    "client4 = data[data['id']==4]"
   ]
  },
  {
   "cell_type": "code",
   "execution_count": 16,
   "id": "ca8fab09",
   "metadata": {},
   "outputs": [],
   "source": [
    "data_train_client1 = client1[client1['deal'].isna()==False]\n",
    "data_train_client2 = client2[client2['deal'].isna()==False]\n",
    "data_train_client3 = client3[client3['deal'].isna()==False]\n",
    "data_train_client4 = client4[client4['deal'].isna()==False]"
   ]
  },
  {
   "cell_type": "code",
   "execution_count": 17,
   "id": "f328d54c",
   "metadata": {},
   "outputs": [
    {
     "name": "stdout",
     "output_type": "stream",
     "text": [
      "beta_client1:[[775.14332635]]\n",
      "alpha_client1:[-0.58134604]\n"
     ]
    }
   ],
   "source": [
    "X_data_train_client1 = data_train_client1[\"diff\"].values.reshape(-1,1)\n",
    "y_data_train_client1 = list(map(int,data_train_client1[\"deal\"].values)) # This is to transform float data to int\n",
    "lr_client1 = LogisticRegression(penalty='none',random_state=None).fit(X_data_train_client1.reshape(-1,1), y_data_train_client1)\n",
    "print(\"beta_client1:{}\".format(-lr_client1.coef_))\n",
    "print(\"alpha_client1:{}\".format(-lr_client1.intercept_))"
   ]
  },
  {
   "cell_type": "code",
   "execution_count": 18,
   "id": "ddef7a26",
   "metadata": {},
   "outputs": [
    {
     "name": "stdout",
     "output_type": "stream",
     "text": [
      "beta_client2:[[239.21083863]]\n",
      "alpha_client2:[-0.70976872]\n"
     ]
    }
   ],
   "source": [
    "X_data_train_client2 = data_train_client2[\"diff\"].values.reshape(-1,1)\n",
    "y_data_train_client2 = list(map(int,data_train_client2[\"deal\"].values)) # This is to transform float data to int\n",
    "lr_client2 = LogisticRegression(penalty='none',random_state=None).fit(X_data_train_client2.reshape(-1,1), y_data_train_client2)\n",
    "print(\"beta_client2:{}\".format(-lr_client2.coef_))\n",
    "print(\"alpha_client2:{}\".format(-lr_client2.intercept_))"
   ]
  },
  {
   "cell_type": "code",
   "execution_count": 19,
   "id": "e4b0f306",
   "metadata": {},
   "outputs": [
    {
     "name": "stdout",
     "output_type": "stream",
     "text": [
      "beta_client3:[[681.66111117]]\n",
      "alpha_client3:[-0.36150038]\n"
     ]
    }
   ],
   "source": [
    "X_data_train_client3 = data_train_client3[\"diff\"].values.reshape(-1,1)\n",
    "y_data_train_client3 = list(map(int,data_train_client3[\"deal\"].values)) # This is to transform float data to int\n",
    "lr_client3 = LogisticRegression(penalty='none',random_state=None).fit(X_data_train_client3.reshape(-1,1), y_data_train_client3)\n",
    "print(\"beta_client3:{}\".format(-lr_client3.coef_))\n",
    "print(\"alpha_client3:{}\".format(-lr_client3.intercept_))"
   ]
  },
  {
   "cell_type": "code",
   "execution_count": 20,
   "id": "afcbda07",
   "metadata": {},
   "outputs": [
    {
     "name": "stdout",
     "output_type": "stream",
     "text": [
      "beta_client4:[[285.36073967]]\n",
      "alpha_client4:[-0.92044294]\n"
     ]
    }
   ],
   "source": [
    "X_data_train_client4 = data_train_client4[\"diff\"].values.reshape(-1,1)\n",
    "y_data_train_client4 = list(map(int,data_train_client4[\"deal\"].values)) # This is to transform float data to int\n",
    "lr_client4 = LogisticRegression(penalty='none',random_state=None).fit(X_data_train_client4.reshape(-1,1), y_data_train_client4)\n",
    "print(\"beta_client4:{}\".format(-lr_client4.coef_))\n",
    "print(\"alpha_client4:{}\".format(-lr_client4.intercept_))"
   ]
  },
  {
   "cell_type": "code",
   "execution_count": 21,
   "id": "46ee6043",
   "metadata": {},
   "outputs": [],
   "source": [
    "alpha = pd.DataFrame({\"client1\":-lr_client1.intercept_, \n",
    "                     \"client2\":-lr_client2.intercept_, \n",
    "                     \"client3\":-lr_client3.intercept_, \n",
    "                     \"client4\":-lr_client4.intercept_})"
   ]
  },
  {
   "cell_type": "code",
   "execution_count": 22,
   "id": "b8576058",
   "metadata": {},
   "outputs": [],
   "source": [
    "beta = pd.DataFrame({\"client1\":-lr_client1.coef_[0], \n",
    "                     \"client2\":-lr_client2.coef_[0],\n",
    "                     \"client3\":-lr_client3.coef_[0],\n",
    "                     \"client4\":-lr_client4.coef_[0],})"
   ]
  },
  {
   "cell_type": "markdown",
   "id": "ddffe557",
   "metadata": {},
   "source": [
    "##### Classify client into two groups"
   ]
  },
  {
   "cell_type": "code",
   "execution_count": 23,
   "id": "9f67d817",
   "metadata": {},
   "outputs": [
    {
     "data": {
      "text/html": [
       "<div>\n",
       "<style scoped>\n",
       "    .dataframe tbody tr th:only-of-type {\n",
       "        vertical-align: middle;\n",
       "    }\n",
       "\n",
       "    .dataframe tbody tr th {\n",
       "        vertical-align: top;\n",
       "    }\n",
       "\n",
       "    .dataframe thead th {\n",
       "        text-align: right;\n",
       "    }\n",
       "</style>\n",
       "<table border=\"1\" class=\"dataframe\">\n",
       "  <thead>\n",
       "    <tr style=\"text-align: right;\">\n",
       "      <th></th>\n",
       "      <th>client1</th>\n",
       "      <th>client2</th>\n",
       "      <th>client3</th>\n",
       "      <th>client4</th>\n",
       "    </tr>\n",
       "  </thead>\n",
       "  <tbody>\n",
       "    <tr>\n",
       "      <th>0</th>\n",
       "      <td>-0.581346</td>\n",
       "      <td>-0.709769</td>\n",
       "      <td>-0.361500</td>\n",
       "      <td>-0.920443</td>\n",
       "    </tr>\n",
       "    <tr>\n",
       "      <th>1</th>\n",
       "      <td>775.143326</td>\n",
       "      <td>239.210839</td>\n",
       "      <td>681.661111</td>\n",
       "      <td>285.360740</td>\n",
       "    </tr>\n",
       "  </tbody>\n",
       "</table>\n",
       "</div>"
      ],
      "text/plain": [
       "      client1     client2     client3     client4\n",
       "0   -0.581346   -0.709769   -0.361500   -0.920443\n",
       "1  775.143326  239.210839  681.661111  285.360740"
      ]
     },
     "execution_count": 23,
     "metadata": {},
     "output_type": "execute_result"
    }
   ],
   "source": [
    "classify_client = pd.concat([alpha,beta],ignore_index=True,axis = 0)#this concatenate the 2 dataframe alpha and beta\n",
    "classify_client"
   ]
  },
  {
   "cell_type": "code",
   "execution_count": 24,
   "id": "e87f4976",
   "metadata": {},
   "outputs": [],
   "source": [
    "classify_client.index = [\"alpha\", \"beta\"]"
   ]
  },
  {
   "cell_type": "code",
   "execution_count": 25,
   "id": "fc7f8b47",
   "metadata": {},
   "outputs": [
    {
     "data": {
      "text/html": [
       "<div>\n",
       "<style scoped>\n",
       "    .dataframe tbody tr th:only-of-type {\n",
       "        vertical-align: middle;\n",
       "    }\n",
       "\n",
       "    .dataframe tbody tr th {\n",
       "        vertical-align: top;\n",
       "    }\n",
       "\n",
       "    .dataframe thead th {\n",
       "        text-align: right;\n",
       "    }\n",
       "</style>\n",
       "<table border=\"1\" class=\"dataframe\">\n",
       "  <thead>\n",
       "    <tr style=\"text-align: right;\">\n",
       "      <th></th>\n",
       "      <th>client1</th>\n",
       "      <th>client2</th>\n",
       "      <th>client3</th>\n",
       "      <th>client4</th>\n",
       "    </tr>\n",
       "  </thead>\n",
       "  <tbody>\n",
       "    <tr>\n",
       "      <th>alpha</th>\n",
       "      <td>-0.581346</td>\n",
       "      <td>-0.709769</td>\n",
       "      <td>-0.361500</td>\n",
       "      <td>-0.920443</td>\n",
       "    </tr>\n",
       "    <tr>\n",
       "      <th>beta</th>\n",
       "      <td>775.143326</td>\n",
       "      <td>239.210839</td>\n",
       "      <td>681.661111</td>\n",
       "      <td>285.360740</td>\n",
       "    </tr>\n",
       "  </tbody>\n",
       "</table>\n",
       "</div>"
      ],
      "text/plain": [
       "          client1     client2     client3     client4\n",
       "alpha   -0.581346   -0.709769   -0.361500   -0.920443\n",
       "beta   775.143326  239.210839  681.661111  285.360740"
      ]
     },
     "execution_count": 25,
     "metadata": {},
     "output_type": "execute_result"
    }
   ],
   "source": [
    "classify_client"
   ]
  },
  {
   "cell_type": "code",
   "execution_count": 26,
   "id": "0b4c35d3",
   "metadata": {},
   "outputs": [
    {
     "data": {
      "image/png": "[encoded data removed]",
      "text/plain": [
       "<Figure size 432x288 with 1 Axes>"
      ]
     },
     "metadata": {
      "needs_background": "light"
     },
     "output_type": "display_data"
    }
   ],
   "source": [
    "plt.scatter(classify_client.iloc[0],classify_client.iloc[1])\n",
    "plt.show()"
   ]
  },
  {
   "cell_type": "markdown",
   "id": "8a52bc49",
   "metadata": {},
   "source": [
    "##### Clustering"
   ]
  },
  {
   "cell_type": "code",
   "execution_count": 27,
   "id": "dda97c7d",
   "metadata": {},
   "outputs": [
    {
     "data": {
      "text/html": [
       "<div>\n",
       "<style scoped>\n",
       "    .dataframe tbody tr th:only-of-type {\n",
       "        vertical-align: middle;\n",
       "    }\n",
       "\n",
       "    .dataframe tbody tr th {\n",
       "        vertical-align: top;\n",
       "    }\n",
       "\n",
       "    .dataframe thead th {\n",
       "        text-align: right;\n",
       "    }\n",
       "</style>\n",
       "<table border=\"1\" class=\"dataframe\">\n",
       "  <thead>\n",
       "    <tr style=\"text-align: right;\">\n",
       "      <th></th>\n",
       "      <th>client1</th>\n",
       "      <th>client2</th>\n",
       "      <th>client3</th>\n",
       "      <th>client4</th>\n",
       "    </tr>\n",
       "  </thead>\n",
       "  <tbody>\n",
       "    <tr>\n",
       "      <th>alpha</th>\n",
       "      <td>-0.581346</td>\n",
       "      <td>-0.709769</td>\n",
       "      <td>-0.361500</td>\n",
       "      <td>-0.920443</td>\n",
       "    </tr>\n",
       "    <tr>\n",
       "      <th>beta</th>\n",
       "      <td>775.143326</td>\n",
       "      <td>239.210839</td>\n",
       "      <td>681.661111</td>\n",
       "      <td>285.360740</td>\n",
       "    </tr>\n",
       "  </tbody>\n",
       "</table>\n",
       "</div>"
      ],
      "text/plain": [
       "          client1     client2     client3     client4\n",
       "alpha   -0.581346   -0.709769   -0.361500   -0.920443\n",
       "beta   775.143326  239.210839  681.661111  285.360740"
      ]
     },
     "execution_count": 27,
     "metadata": {},
     "output_type": "execute_result"
    }
   ],
   "source": [
    "classify_client"
   ]
  },
  {
   "cell_type": "code",
   "execution_count": 28,
   "id": "e8f53a5b",
   "metadata": {},
   "outputs": [
    {
     "data": {
      "text/plain": [
       "KMeans(n_clusters=2)"
      ]
     },
     "execution_count": 28,
     "metadata": {},
     "output_type": "execute_result"
    }
   ],
   "source": [
    "kmean = KMeans(n_clusters = 2)\n",
    "kmean.fit(classify_client.T)"
   ]
  },
  {
   "cell_type": "code",
   "execution_count": 29,
   "id": "86014d02",
   "metadata": {},
   "outputs": [
    {
     "data": {
      "text/plain": [
       "array([1, 0, 1, 0])"
      ]
     },
     "execution_count": 29,
     "metadata": {},
     "output_type": "execute_result"
    }
   ],
   "source": [
    "group = kmean.predict(classify_client.T)\n",
    "group"
   ]
  },
  {
   "cell_type": "code",
   "execution_count": 30,
   "id": "6127c6b9",
   "metadata": {},
   "outputs": [
    {
     "data": {
      "text/html": [
       "<div>\n",
       "<style scoped>\n",
       "    .dataframe tbody tr th:only-of-type {\n",
       "        vertical-align: middle;\n",
       "    }\n",
       "\n",
       "    .dataframe tbody tr th {\n",
       "        vertical-align: top;\n",
       "    }\n",
       "\n",
       "    .dataframe thead th {\n",
       "        text-align: right;\n",
       "    }\n",
       "</style>\n",
       "<table border=\"1\" class=\"dataframe\">\n",
       "  <thead>\n",
       "    <tr style=\"text-align: right;\">\n",
       "      <th></th>\n",
       "      <th>client1</th>\n",
       "      <th>client2</th>\n",
       "      <th>client3</th>\n",
       "      <th>client4</th>\n",
       "    </tr>\n",
       "  </thead>\n",
       "  <tbody>\n",
       "    <tr>\n",
       "      <th>alpha</th>\n",
       "      <td>-0.581346</td>\n",
       "      <td>-0.709769</td>\n",
       "      <td>-0.361500</td>\n",
       "      <td>-0.920443</td>\n",
       "    </tr>\n",
       "    <tr>\n",
       "      <th>beta</th>\n",
       "      <td>775.143326</td>\n",
       "      <td>239.210839</td>\n",
       "      <td>681.661111</td>\n",
       "      <td>285.360740</td>\n",
       "    </tr>\n",
       "    <tr>\n",
       "      <th>group</th>\n",
       "      <td>1.000000</td>\n",
       "      <td>0.000000</td>\n",
       "      <td>1.000000</td>\n",
       "      <td>0.000000</td>\n",
       "    </tr>\n",
       "  </tbody>\n",
       "</table>\n",
       "</div>"
      ],
      "text/plain": [
       "          client1     client2     client3     client4\n",
       "alpha   -0.581346   -0.709769   -0.361500   -0.920443\n",
       "beta   775.143326  239.210839  681.661111  285.360740\n",
       "group    1.000000    0.000000    1.000000    0.000000"
      ]
     },
     "execution_count": 30,
     "metadata": {},
     "output_type": "execute_result"
    }
   ],
   "source": [
    "classify_client.loc[\"group\"] = group\n",
    "classify_client"
   ]
  },
  {
   "cell_type": "code",
   "execution_count": 31,
   "id": "b4aa65aa",
   "metadata": {},
   "outputs": [],
   "source": [
    "classify_client= classify_client.T"
   ]
  },
  {
   "cell_type": "code",
   "execution_count": 32,
   "id": "e96e73b3",
   "metadata": {},
   "outputs": [
    {
     "data": {
      "text/html": [
       "<div>\n",
       "<style scoped>\n",
       "    .dataframe tbody tr th:only-of-type {\n",
       "        vertical-align: middle;\n",
       "    }\n",
       "\n",
       "    .dataframe tbody tr th {\n",
       "        vertical-align: top;\n",
       "    }\n",
       "\n",
       "    .dataframe thead th {\n",
       "        text-align: right;\n",
       "    }\n",
       "</style>\n",
       "<table border=\"1\" class=\"dataframe\">\n",
       "  <thead>\n",
       "    <tr style=\"text-align: right;\">\n",
       "      <th></th>\n",
       "      <th>alpha</th>\n",
       "      <th>beta</th>\n",
       "      <th>group</th>\n",
       "    </tr>\n",
       "  </thead>\n",
       "  <tbody>\n",
       "    <tr>\n",
       "      <th>client1</th>\n",
       "      <td>-0.581346</td>\n",
       "      <td>775.143326</td>\n",
       "      <td>1</td>\n",
       "    </tr>\n",
       "    <tr>\n",
       "      <th>client2</th>\n",
       "      <td>-0.709769</td>\n",
       "      <td>239.210839</td>\n",
       "      <td>0</td>\n",
       "    </tr>\n",
       "    <tr>\n",
       "      <th>client3</th>\n",
       "      <td>-0.361500</td>\n",
       "      <td>681.661111</td>\n",
       "      <td>1</td>\n",
       "    </tr>\n",
       "    <tr>\n",
       "      <th>client4</th>\n",
       "      <td>-0.920443</td>\n",
       "      <td>285.360740</td>\n",
       "      <td>0</td>\n",
       "    </tr>\n",
       "  </tbody>\n",
       "</table>\n",
       "</div>"
      ],
      "text/plain": [
       "            alpha        beta  group\n",
       "client1 -0.581346  775.143326      1\n",
       "client2 -0.709769  239.210839      0\n",
       "client3 -0.361500  681.661111      1\n",
       "client4 -0.920443  285.360740      0"
      ]
     },
     "execution_count": 32,
     "metadata": {},
     "output_type": "execute_result"
    }
   ],
   "source": [
    "classify_client['group'] = classify_client['group'].astype(np.int8)\n",
    "classify_client"
   ]
  },
  {
   "cell_type": "markdown",
   "id": "04ace735",
   "metadata": {},
   "source": [
    "We can see that the client 1 and 3 have the same behaviour, and client 2 and 4 have the same behaviour."
   ]
  },
  {
   "cell_type": "markdown",
   "id": "95516b00",
   "metadata": {},
   "source": [
    "##### Another method for clustering"
   ]
  },
  {
   "cell_type": "code",
   "execution_count": 74,
   "id": "1c1bb002",
   "metadata": {},
   "outputs": [
    {
     "name": "stderr",
     "output_type": "stream",
     "text": [
      "<ipython-input-74-e080a55c2e72>:1: SettingWithCopyWarning: \n",
      "A value is trying to be set on a copy of a slice from a DataFrame.\n",
      "Try using .loc[row_indexer,col_indexer] = value instead\n",
      "\n",
      "See the caveats in the documentation: https://pandas.pydata.org/pandas-docs/stable/user_guide/indexing.html#returning-a-view-versus-a-copy\n",
      "  data_train['Prediction'] =  lr.predict(X_data_train)\n"
     ]
    },
    {
     "data": {
      "text/html": [
       "<div>\n",
       "<style scoped>\n",
       "    .dataframe tbody tr th:only-of-type {\n",
       "        vertical-align: middle;\n",
       "    }\n",
       "\n",
       "    .dataframe tbody tr th {\n",
       "        vertical-align: top;\n",
       "    }\n",
       "\n",
       "    .dataframe thead th {\n",
       "        text-align: right;\n",
       "    }\n",
       "</style>\n",
       "<table border=\"1\" class=\"dataframe\">\n",
       "  <thead>\n",
       "    <tr style=\"text-align: right;\">\n",
       "      <th></th>\n",
       "      <th>midprice</th>\n",
       "      <th>id</th>\n",
       "      <th>buy/sell</th>\n",
       "      <th>answeredprice</th>\n",
       "      <th>deal</th>\n",
       "      <th>diff</th>\n",
       "      <th>Prediction</th>\n",
       "    </tr>\n",
       "  </thead>\n",
       "  <tbody>\n",
       "    <tr>\n",
       "      <th>0</th>\n",
       "      <td>97.9990</td>\n",
       "      <td>4</td>\n",
       "      <td>1</td>\n",
       "      <td>98.016</td>\n",
       "      <td>0.0</td>\n",
       "      <td>0.0170</td>\n",
       "      <td>0</td>\n",
       "    </tr>\n",
       "    <tr>\n",
       "      <th>1</th>\n",
       "      <td>97.9988</td>\n",
       "      <td>4</td>\n",
       "      <td>-1</td>\n",
       "      <td>98.001</td>\n",
       "      <td>1.0</td>\n",
       "      <td>-0.0022</td>\n",
       "      <td>1</td>\n",
       "    </tr>\n",
       "    <tr>\n",
       "      <th>2</th>\n",
       "      <td>97.9951</td>\n",
       "      <td>1</td>\n",
       "      <td>-1</td>\n",
       "      <td>97.979</td>\n",
       "      <td>0.0</td>\n",
       "      <td>0.0161</td>\n",
       "      <td>0</td>\n",
       "    </tr>\n",
       "    <tr>\n",
       "      <th>3</th>\n",
       "      <td>97.9971</td>\n",
       "      <td>1</td>\n",
       "      <td>1</td>\n",
       "      <td>97.990</td>\n",
       "      <td>1.0</td>\n",
       "      <td>-0.0071</td>\n",
       "      <td>1</td>\n",
       "    </tr>\n",
       "    <tr>\n",
       "      <th>4</th>\n",
       "      <td>97.9961</td>\n",
       "      <td>1</td>\n",
       "      <td>-1</td>\n",
       "      <td>97.978</td>\n",
       "      <td>0.0</td>\n",
       "      <td>0.0181</td>\n",
       "      <td>0</td>\n",
       "    </tr>\n",
       "  </tbody>\n",
       "</table>\n",
       "</div>"
      ],
      "text/plain": [
       "   midprice  id  buy/sell  answeredprice  deal    diff  Prediction\n",
       "0   97.9990   4         1         98.016   0.0  0.0170           0\n",
       "1   97.9988   4        -1         98.001   1.0 -0.0022           1\n",
       "2   97.9951   1        -1         97.979   0.0  0.0161           0\n",
       "3   97.9971   1         1         97.990   1.0 -0.0071           1\n",
       "4   97.9961   1        -1         97.978   0.0  0.0181           0"
      ]
     },
     "execution_count": 74,
     "metadata": {},
     "output_type": "execute_result"
    }
   ],
   "source": [
    "data_train['Prediction'] =  lr.predict(X_data_train)\n",
    "data_train.head()"
   ]
  },
  {
   "cell_type": "markdown",
   "id": "6d7d6dd6",
   "metadata": {},
   "source": [
    "##### Analyzing the False Positives and False negatives for the first regression\n"
   ]
  },
  {
   "cell_type": "code",
   "execution_count": 57,
   "id": "9fafd178",
   "metadata": {},
   "outputs": [
    {
     "data": {
      "text/html": [
       "<div>\n",
       "<style scoped>\n",
       "    .dataframe tbody tr th:only-of-type {\n",
       "        vertical-align: middle;\n",
       "    }\n",
       "\n",
       "    .dataframe tbody tr th {\n",
       "        vertical-align: top;\n",
       "    }\n",
       "\n",
       "    .dataframe thead th {\n",
       "        text-align: right;\n",
       "    }\n",
       "</style>\n",
       "<table border=\"1\" class=\"dataframe\">\n",
       "  <thead>\n",
       "    <tr style=\"text-align: right;\">\n",
       "      <th></th>\n",
       "      <th>Predicted 1 Actual 0</th>\n",
       "      <th>Predicted 0 Actual 1</th>\n",
       "    </tr>\n",
       "  </thead>\n",
       "  <tbody>\n",
       "    <tr>\n",
       "      <th>client1</th>\n",
       "      <td>27</td>\n",
       "      <td>4</td>\n",
       "    </tr>\n",
       "    <tr>\n",
       "      <th>client2</th>\n",
       "      <td>34</td>\n",
       "      <td>48</td>\n",
       "    </tr>\n",
       "    <tr>\n",
       "      <th>client3</th>\n",
       "      <td>21</td>\n",
       "      <td>9</td>\n",
       "    </tr>\n",
       "    <tr>\n",
       "      <th>client4</th>\n",
       "      <td>23</td>\n",
       "      <td>53</td>\n",
       "    </tr>\n",
       "  </tbody>\n",
       "</table>\n",
       "</div>"
      ],
      "text/plain": [
       "         Predicted 1 Actual 0   Predicted 0 Actual 1\n",
       "client1                    27                      4\n",
       "client2                    34                     48\n",
       "client3                    21                      9\n",
       "client4                    23                     53"
      ]
     },
     "execution_count": 57,
     "metadata": {},
     "output_type": "execute_result"
    }
   ],
   "source": [
    "e=[[0, 0, 0],\n",
    "  [0, 0, 0]]\n",
    "for j in range(2):\n",
    "    a,b,c,d =0, 0, 0, 0 #initialize a counting\n",
    "    for i in range(len(data_train)):\n",
    "        if (data_train.iloc[i]['deal'] != data_train.iloc[i]['Prediction']) & (data_train.iloc[i]['deal'] == j):\n",
    "            if(data_train.iloc[i]['id'] == 1):#compute the number of client 1 who do not  matches with prediction:  deal or not_deal\n",
    "                a += 1\n",
    "            elif(data_train.iloc[i]['id'] == 2):#compute the number of client 2 who do not matches with prediction: deal or not_deal\n",
    "                b += 1\n",
    "            elif(data_train.iloc[i]['id'] == 3):#compute the number of client 3 who do not matches with prediction: deal or not_deal\n",
    "                c += 1\n",
    "            else:                              #compute the number of client 4 who do not  matches with prediction: deal or not_deal\n",
    "                d += 1\n",
    "        e[j] = [a, b, c, d]           \n",
    "d = {'Predicted 1 Actual 0': e[0], ' Predicted 0 Actual 1': e[1] }\n",
    "pd.DataFrame(data=d, index=['client1', 'client2', 'client3', 'client4'])\n"
   ]
  },
  {
   "cell_type": "markdown",
   "id": "f97b7f8c",
   "metadata": {},
   "source": [
    "From the above table, we may say that from the clients 2 and 4 there were more false postives then from the other clients, we may say that they prefered to have a deal with the trader. To have more insite into this problem, we analyze further our dataset."
   ]
  },
  {
   "cell_type": "code",
   "execution_count": 56,
   "id": "d7c8e5c7",
   "metadata": {},
   "outputs": [
    {
     "name": "stdout",
     "output_type": "stream",
     "text": [
      "\u001b[1mThe number of clients willing to buy,\n",
      " with a higher answered price then initial price. \u001b[0m\n"
     ]
    },
    {
     "data": {
      "text/html": [
       "<div>\n",
       "<style scoped>\n",
       "    .dataframe tbody tr th:only-of-type {\n",
       "        vertical-align: middle;\n",
       "    }\n",
       "\n",
       "    .dataframe tbody tr th {\n",
       "        vertical-align: top;\n",
       "    }\n",
       "\n",
       "    .dataframe thead th {\n",
       "        text-align: right;\n",
       "    }\n",
       "</style>\n",
       "<table border=\"1\" class=\"dataframe\">\n",
       "  <thead>\n",
       "    <tr style=\"text-align: right;\">\n",
       "      <th></th>\n",
       "      <th>deal_client_1</th>\n",
       "      <th>deal_client_2</th>\n",
       "      <th>deal_client_3</th>\n",
       "      <th>deal_client_4</th>\n",
       "    </tr>\n",
       "  </thead>\n",
       "  <tbody>\n",
       "    <tr>\n",
       "      <th>0.0</th>\n",
       "      <td>131</td>\n",
       "      <td>102</td>\n",
       "      <td>104</td>\n",
       "      <td>105</td>\n",
       "    </tr>\n",
       "    <tr>\n",
       "      <th>1.0</th>\n",
       "      <td>10</td>\n",
       "      <td>30</td>\n",
       "      <td>10</td>\n",
       "      <td>32</td>\n",
       "    </tr>\n",
       "  </tbody>\n",
       "</table>\n",
       "</div>"
      ],
      "text/plain": [
       "     deal_client_1  deal_client_2  deal_client_3  deal_client_4\n",
       "0.0            131            102            104            105\n",
       "1.0             10             30             10             32"
      ]
     },
     "execution_count": 56,
     "metadata": {},
     "output_type": "execute_result"
    }
   ],
   "source": [
    "a = data_train_client1[(data_train_client1['differences']>=0) & (data_train_client1['buy/sell'] == 1)]\n",
    "b = data_train_client2[(data_train_client2['differences']>=0) & (data_train_client2['buy/sell'] == 1)]\n",
    "c = data_train_client3[(data_train_client3['differences']>=0) & (data_train_client3['buy/sell'] == 1)]\n",
    "d = data_train_client4[(data_train_client4['differences']>=0) & (data_train_client4['buy/sell'] == 1)]\n",
    "e = pd.DataFrame(a['deal'].value_counts())\n",
    "f = pd.DataFrame(b['deal'].value_counts())\n",
    "g = pd.DataFrame(c['deal'].value_counts())\n",
    "h = pd.DataFrame(d['deal'].value_counts())\n",
    "e.rename(columns = {'deal':'deal_client_1'}, inplace = True)\n",
    "f.rename(columns = {'deal':'deal_client_2'}, inplace = True)\n",
    "g.rename(columns = {'deal':'deal_client_3'}, inplace = True)\n",
    "h.rename(columns = {'deal':'deal_client_4'}, inplace = True)\n",
    "print('\\033[1m' + 'The number of clients willing to buy,\\n with a higher answered price then initial price. ' + '\\033[0m')                                                            \n",
    "data1 = pd.concat([e, f, g, h], axis = 1) #merging the 4 datasets into one\n",
    "data1"
   ]
  },
  {
   "cell_type": "code",
   "execution_count": 54,
   "id": "a4606b40",
   "metadata": {},
   "outputs": [
    {
     "data": {
      "text/plain": [
       "Float64Index([0.0, 1.0], dtype='float64')"
      ]
     },
     "execution_count": 54,
     "metadata": {},
     "output_type": "execute_result"
    }
   ],
   "source": []
  },
  {
   "cell_type": "markdown",
   "id": "160adcca",
   "metadata": {},
   "source": [
    "The above table displays the number of clients willing to buy bonds from which the answered price was higher then the reference price of the bond at the time of the request.\n",
    "\n",
    "It should be that there would be more 'no deal' as for the client the profit is negative, but given the information on the table, the number of clients from group 2 and 4 which have decided for 'deal-buying the bond', is higher then from clients 1 and 3. \n",
    "\n",
    "We coclude that clients who wants to buy bonds from group 1 and 3 are more rational then clients from group 2 and 4."
   ]
  },
  {
   "cell_type": "code",
   "execution_count": 36,
   "id": "f8679d56",
   "metadata": {},
   "outputs": [
    {
     "name": "stdout",
     "output_type": "stream",
     "text": [
      "\u001b[1mThe number of clients willing to sell,\n",
      " with a lower answered price then initial price. \u001b[0m\n"
     ]
    },
    {
     "data": {
      "text/html": [
       "<div>\n",
       "<style scoped>\n",
       "    .dataframe tbody tr th:only-of-type {\n",
       "        vertical-align: middle;\n",
       "    }\n",
       "\n",
       "    .dataframe tbody tr th {\n",
       "        vertical-align: top;\n",
       "    }\n",
       "\n",
       "    .dataframe thead th {\n",
       "        text-align: right;\n",
       "    }\n",
       "</style>\n",
       "<table border=\"1\" class=\"dataframe\">\n",
       "  <thead>\n",
       "    <tr style=\"text-align: right;\">\n",
       "      <th></th>\n",
       "      <th>deal_client_1</th>\n",
       "      <th>deal_client_2</th>\n",
       "      <th>deal_client_3</th>\n",
       "      <th>deal_client_4</th>\n",
       "    </tr>\n",
       "  </thead>\n",
       "  <tbody>\n",
       "    <tr>\n",
       "      <th>0.0</th>\n",
       "      <td>109</td>\n",
       "      <td>106</td>\n",
       "      <td>135</td>\n",
       "      <td>100</td>\n",
       "    </tr>\n",
       "    <tr>\n",
       "      <th>1.0</th>\n",
       "      <td>11</td>\n",
       "      <td>34</td>\n",
       "      <td>6</td>\n",
       "      <td>34</td>\n",
       "    </tr>\n",
       "  </tbody>\n",
       "</table>\n",
       "</div>"
      ],
      "text/plain": [
       "     deal_client_1  deal_client_2  deal_client_3  deal_client_4\n",
       "0.0            109            106            135            100\n",
       "1.0             11             34              6             34"
      ]
     },
     "execution_count": 36,
     "metadata": {},
     "output_type": "execute_result"
    }
   ],
   "source": [
    "a = data_train_client1[(data_train_client1['differences']<0) & (data_train_client1['buy/sell'] == -1)]\n",
    "b = data_train_client2[(data_train_client2['differences']<0) & (data_train_client2['buy/sell'] == -1)]\n",
    "c = data_train_client3[(data_train_client3['differences']<0) & (data_train_client3['buy/sell'] == -1)]\n",
    "d = data_train_client4[(data_train_client4['differences']<0) & (data_train_client4['buy/sell'] == -1)]\n",
    "e = pd.DataFrame(a['deal'].value_counts())\n",
    "f = pd.DataFrame(b['deal'].value_counts())\n",
    "g = pd.DataFrame(c['deal'].value_counts())\n",
    "h = pd.DataFrame(d['deal'].value_counts())\n",
    "e.rename(columns = {'deal':'deal_client_1'}, inplace = True)\n",
    "f.rename(columns = {'deal':'deal_client_2'}, inplace = True)\n",
    "g.rename(columns = {'deal':'deal_client_3'}, inplace = True)\n",
    "h.rename(columns = {'deal':'deal_client_4'}, inplace = True)\n",
    "print('\\033[1m' + 'The number of clients willing to sell,\\n with a lower answered price then initial price. ' + '\\033[0m')                                                            \n",
    "pd.concat([e, f, g, h], axis = 1)"
   ]
  },
  {
   "cell_type": "markdown",
   "id": "0c1775a0",
   "metadata": {},
   "source": [
    "The above table displays the number of clients willing to sell from which the answered price was lower then the reference price of the bond at the time of the request.\n",
    "\n",
    "It should be that there would be more 'no deal' as for the clients the profit is negative, but given the information on the table, the number of clients from group 2 and 4 which have decided for 'deal- selling the bond', is higher then from clients 1 and 3. \n",
    "\n",
    "We conclude that clients who wants to sell bonds from group 1 and 3 are more rational then clients from group 2 and 4."
   ]
  },
  {
   "cell_type": "markdown",
   "id": "15dea336",
   "metadata": {},
   "source": [
    "Given the preferences of clients, we conclude that the clients from group 1 and 3 will be merged together and the clients from group 2 and 4 will be merged together."
   ]
  },
  {
   "cell_type": "markdown",
   "id": "ebf63b01",
   "metadata": {},
   "source": [
    "#### Question 3:\n",
    "Using the identity of clients and the results of Question 2, propose and code in the notebook a new algorithm to\n",
    "evaluate the probability of a trade for each of the last 200 requests (rows)."
   ]
  },
  {
   "cell_type": "markdown",
   "id": "2697a1cd",
   "metadata": {},
   "source": [
    "In the previous question, we have seen that client 1, 3 in group 1 and client 2,4 in group 2"
   ]
  },
  {
   "cell_type": "code",
   "execution_count": 58,
   "id": "bdd1c0d9",
   "metadata": {},
   "outputs": [
    {
     "data": {
      "text/html": [
       "<div>\n",
       "<style scoped>\n",
       "    .dataframe tbody tr th:only-of-type {\n",
       "        vertical-align: middle;\n",
       "    }\n",
       "\n",
       "    .dataframe tbody tr th {\n",
       "        vertical-align: top;\n",
       "    }\n",
       "\n",
       "    .dataframe thead th {\n",
       "        text-align: right;\n",
       "    }\n",
       "</style>\n",
       "<table border=\"1\" class=\"dataframe\">\n",
       "  <thead>\n",
       "    <tr style=\"text-align: right;\">\n",
       "      <th></th>\n",
       "      <th>midprice</th>\n",
       "      <th>id</th>\n",
       "      <th>buy/sell</th>\n",
       "      <th>answeredprice</th>\n",
       "      <th>deal</th>\n",
       "      <th>diff</th>\n",
       "      <th>differences</th>\n",
       "    </tr>\n",
       "  </thead>\n",
       "  <tbody>\n",
       "    <tr>\n",
       "      <th>2</th>\n",
       "      <td>97.9951</td>\n",
       "      <td>1</td>\n",
       "      <td>-1</td>\n",
       "      <td>97.979</td>\n",
       "      <td>0.0</td>\n",
       "      <td>0.0161</td>\n",
       "      <td>-0.0161</td>\n",
       "    </tr>\n",
       "    <tr>\n",
       "      <th>3</th>\n",
       "      <td>97.9971</td>\n",
       "      <td>1</td>\n",
       "      <td>1</td>\n",
       "      <td>97.990</td>\n",
       "      <td>1.0</td>\n",
       "      <td>-0.0071</td>\n",
       "      <td>-0.0071</td>\n",
       "    </tr>\n",
       "    <tr>\n",
       "      <th>4</th>\n",
       "      <td>97.9961</td>\n",
       "      <td>1</td>\n",
       "      <td>-1</td>\n",
       "      <td>97.978</td>\n",
       "      <td>0.0</td>\n",
       "      <td>0.0181</td>\n",
       "      <td>-0.0181</td>\n",
       "    </tr>\n",
       "    <tr>\n",
       "      <th>6</th>\n",
       "      <td>97.9910</td>\n",
       "      <td>1</td>\n",
       "      <td>1</td>\n",
       "      <td>97.981</td>\n",
       "      <td>1.0</td>\n",
       "      <td>-0.0100</td>\n",
       "      <td>-0.0100</td>\n",
       "    </tr>\n",
       "    <tr>\n",
       "      <th>7</th>\n",
       "      <td>97.9917</td>\n",
       "      <td>1</td>\n",
       "      <td>-1</td>\n",
       "      <td>97.987</td>\n",
       "      <td>0.0</td>\n",
       "      <td>0.0047</td>\n",
       "      <td>-0.0047</td>\n",
       "    </tr>\n",
       "    <tr>\n",
       "      <th>...</th>\n",
       "      <td>...</td>\n",
       "      <td>...</td>\n",
       "      <td>...</td>\n",
       "      <td>...</td>\n",
       "      <td>...</td>\n",
       "      <td>...</td>\n",
       "      <td>...</td>\n",
       "    </tr>\n",
       "    <tr>\n",
       "      <th>2188</th>\n",
       "      <td>97.9901</td>\n",
       "      <td>3</td>\n",
       "      <td>-1</td>\n",
       "      <td>97.972</td>\n",
       "      <td>NaN</td>\n",
       "      <td>0.0181</td>\n",
       "      <td>-0.0181</td>\n",
       "    </tr>\n",
       "    <tr>\n",
       "      <th>2191</th>\n",
       "      <td>97.9965</td>\n",
       "      <td>3</td>\n",
       "      <td>1</td>\n",
       "      <td>97.992</td>\n",
       "      <td>NaN</td>\n",
       "      <td>-0.0045</td>\n",
       "      <td>-0.0045</td>\n",
       "    </tr>\n",
       "    <tr>\n",
       "      <th>2192</th>\n",
       "      <td>97.9992</td>\n",
       "      <td>1</td>\n",
       "      <td>-1</td>\n",
       "      <td>98.009</td>\n",
       "      <td>NaN</td>\n",
       "      <td>-0.0098</td>\n",
       "      <td>0.0098</td>\n",
       "    </tr>\n",
       "    <tr>\n",
       "      <th>2195</th>\n",
       "      <td>97.9943</td>\n",
       "      <td>1</td>\n",
       "      <td>-1</td>\n",
       "      <td>97.995</td>\n",
       "      <td>NaN</td>\n",
       "      <td>-0.0007</td>\n",
       "      <td>0.0007</td>\n",
       "    </tr>\n",
       "    <tr>\n",
       "      <th>2197</th>\n",
       "      <td>97.9999</td>\n",
       "      <td>3</td>\n",
       "      <td>1</td>\n",
       "      <td>98.009</td>\n",
       "      <td>NaN</td>\n",
       "      <td>0.0091</td>\n",
       "      <td>0.0091</td>\n",
       "    </tr>\n",
       "  </tbody>\n",
       "</table>\n",
       "<p>1074 rows × 7 columns</p>\n",
       "</div>"
      ],
      "text/plain": [
       "      midprice  id  buy/sell  answeredprice  deal    diff  differences\n",
       "2      97.9951   1        -1         97.979   0.0  0.0161      -0.0161\n",
       "3      97.9971   1         1         97.990   1.0 -0.0071      -0.0071\n",
       "4      97.9961   1        -1         97.978   0.0  0.0181      -0.0181\n",
       "6      97.9910   1         1         97.981   1.0 -0.0100      -0.0100\n",
       "7      97.9917   1        -1         97.987   0.0  0.0047      -0.0047\n",
       "...        ...  ..       ...            ...   ...     ...          ...\n",
       "2188   97.9901   3        -1         97.972   NaN  0.0181      -0.0181\n",
       "2191   97.9965   3         1         97.992   NaN -0.0045      -0.0045\n",
       "2192   97.9992   1        -1         98.009   NaN -0.0098       0.0098\n",
       "2195   97.9943   1        -1         97.995   NaN -0.0007       0.0007\n",
       "2197   97.9999   3         1         98.009   NaN  0.0091       0.0091\n",
       "\n",
       "[1074 rows x 7 columns]"
      ]
     },
     "execution_count": 58,
     "metadata": {},
     "output_type": "execute_result"
    }
   ],
   "source": [
    "#create a new data for group 1\n",
    "data1 = [False]*len(data)\n",
    "for i in range(len(data)):\n",
    "    if data['id'][i] == 1 or data['id'][i] ==3:\n",
    "        data1[i] = True\n",
    "group1= data[data1]\n",
    "group1"
   ]
  },
  {
   "cell_type": "code",
   "execution_count": 38,
   "id": "d4a29118",
   "metadata": {},
   "outputs": [
    {
     "data": {
      "text/html": [
       "<div>\n",
       "<style scoped>\n",
       "    .dataframe tbody tr th:only-of-type {\n",
       "        vertical-align: middle;\n",
       "    }\n",
       "\n",
       "    .dataframe tbody tr th {\n",
       "        vertical-align: top;\n",
       "    }\n",
       "\n",
       "    .dataframe thead th {\n",
       "        text-align: right;\n",
       "    }\n",
       "</style>\n",
       "<table border=\"1\" class=\"dataframe\">\n",
       "  <thead>\n",
       "    <tr style=\"text-align: right;\">\n",
       "      <th></th>\n",
       "      <th>midprice</th>\n",
       "      <th>id</th>\n",
       "      <th>buy/sell</th>\n",
       "      <th>answeredprice</th>\n",
       "      <th>deal</th>\n",
       "      <th>diff</th>\n",
       "      <th>differences</th>\n",
       "    </tr>\n",
       "  </thead>\n",
       "  <tbody>\n",
       "    <tr>\n",
       "      <th>0</th>\n",
       "      <td>97.9990</td>\n",
       "      <td>4</td>\n",
       "      <td>1</td>\n",
       "      <td>98.016</td>\n",
       "      <td>0.0</td>\n",
       "      <td>0.0170</td>\n",
       "      <td>0.0170</td>\n",
       "    </tr>\n",
       "    <tr>\n",
       "      <th>1</th>\n",
       "      <td>97.9988</td>\n",
       "      <td>4</td>\n",
       "      <td>-1</td>\n",
       "      <td>98.001</td>\n",
       "      <td>1.0</td>\n",
       "      <td>-0.0022</td>\n",
       "      <td>0.0022</td>\n",
       "    </tr>\n",
       "    <tr>\n",
       "      <th>5</th>\n",
       "      <td>97.9935</td>\n",
       "      <td>2</td>\n",
       "      <td>-1</td>\n",
       "      <td>98.005</td>\n",
       "      <td>1.0</td>\n",
       "      <td>-0.0115</td>\n",
       "      <td>0.0115</td>\n",
       "    </tr>\n",
       "    <tr>\n",
       "      <th>8</th>\n",
       "      <td>97.9898</td>\n",
       "      <td>4</td>\n",
       "      <td>1</td>\n",
       "      <td>97.984</td>\n",
       "      <td>1.0</td>\n",
       "      <td>-0.0058</td>\n",
       "      <td>-0.0058</td>\n",
       "    </tr>\n",
       "    <tr>\n",
       "      <th>9</th>\n",
       "      <td>97.9868</td>\n",
       "      <td>4</td>\n",
       "      <td>1</td>\n",
       "      <td>97.969</td>\n",
       "      <td>1.0</td>\n",
       "      <td>-0.0178</td>\n",
       "      <td>-0.0178</td>\n",
       "    </tr>\n",
       "    <tr>\n",
       "      <th>...</th>\n",
       "      <td>...</td>\n",
       "      <td>...</td>\n",
       "      <td>...</td>\n",
       "      <td>...</td>\n",
       "      <td>...</td>\n",
       "      <td>...</td>\n",
       "      <td>...</td>\n",
       "    </tr>\n",
       "    <tr>\n",
       "      <th>2193</th>\n",
       "      <td>97.9962</td>\n",
       "      <td>4</td>\n",
       "      <td>-1</td>\n",
       "      <td>98.001</td>\n",
       "      <td>NaN</td>\n",
       "      <td>-0.0048</td>\n",
       "      <td>0.0048</td>\n",
       "    </tr>\n",
       "    <tr>\n",
       "      <th>2194</th>\n",
       "      <td>97.9970</td>\n",
       "      <td>2</td>\n",
       "      <td>-1</td>\n",
       "      <td>97.996</td>\n",
       "      <td>NaN</td>\n",
       "      <td>0.0010</td>\n",
       "      <td>-0.0010</td>\n",
       "    </tr>\n",
       "    <tr>\n",
       "      <th>2196</th>\n",
       "      <td>97.9977</td>\n",
       "      <td>2</td>\n",
       "      <td>1</td>\n",
       "      <td>98.014</td>\n",
       "      <td>NaN</td>\n",
       "      <td>0.0163</td>\n",
       "      <td>0.0163</td>\n",
       "    </tr>\n",
       "    <tr>\n",
       "      <th>2198</th>\n",
       "      <td>98.0019</td>\n",
       "      <td>2</td>\n",
       "      <td>-1</td>\n",
       "      <td>98.007</td>\n",
       "      <td>NaN</td>\n",
       "      <td>-0.0051</td>\n",
       "      <td>0.0051</td>\n",
       "    </tr>\n",
       "    <tr>\n",
       "      <th>2199</th>\n",
       "      <td>98.0041</td>\n",
       "      <td>2</td>\n",
       "      <td>1</td>\n",
       "      <td>98.015</td>\n",
       "      <td>NaN</td>\n",
       "      <td>0.0109</td>\n",
       "      <td>0.0109</td>\n",
       "    </tr>\n",
       "  </tbody>\n",
       "</table>\n",
       "<p>1126 rows × 7 columns</p>\n",
       "</div>"
      ],
      "text/plain": [
       "      midprice  id  buy/sell  answeredprice  deal    diff  differences\n",
       "0      97.9990   4         1         98.016   0.0  0.0170       0.0170\n",
       "1      97.9988   4        -1         98.001   1.0 -0.0022       0.0022\n",
       "5      97.9935   2        -1         98.005   1.0 -0.0115       0.0115\n",
       "8      97.9898   4         1         97.984   1.0 -0.0058      -0.0058\n",
       "9      97.9868   4         1         97.969   1.0 -0.0178      -0.0178\n",
       "...        ...  ..       ...            ...   ...     ...          ...\n",
       "2193   97.9962   4        -1         98.001   NaN -0.0048       0.0048\n",
       "2194   97.9970   2        -1         97.996   NaN  0.0010      -0.0010\n",
       "2196   97.9977   2         1         98.014   NaN  0.0163       0.0163\n",
       "2198   98.0019   2        -1         98.007   NaN -0.0051       0.0051\n",
       "2199   98.0041   2         1         98.015   NaN  0.0109       0.0109\n",
       "\n",
       "[1126 rows x 7 columns]"
      ]
     },
     "execution_count": 38,
     "metadata": {},
     "output_type": "execute_result"
    }
   ],
   "source": [
    "#create a new data for group 2\n",
    "group2 = data[np.array(data1) == False]\n",
    "group2"
   ]
  },
  {
   "cell_type": "markdown",
   "id": "4006a020",
   "metadata": {},
   "source": [
    "##### Create a train data and logistic regression for group1 "
   ]
  },
  {
   "cell_type": "code",
   "execution_count": 39,
   "id": "312697cd",
   "metadata": {},
   "outputs": [
    {
     "data": {
      "text/plain": [
       "{1, 3}"
      ]
     },
     "execution_count": 39,
     "metadata": {},
     "output_type": "execute_result"
    }
   ],
   "source": [
    "set(group1['id'].values)"
   ]
  },
  {
   "cell_type": "code",
   "execution_count": 40,
   "id": "f002950a",
   "metadata": {},
   "outputs": [
    {
     "data": {
      "text/plain": [
       "{2, 4}"
      ]
     },
     "execution_count": 40,
     "metadata": {},
     "output_type": "execute_result"
    }
   ],
   "source": [
    "set(group2['id'].values)"
   ]
  },
  {
   "cell_type": "code",
   "execution_count": 41,
   "id": "bd3bb067",
   "metadata": {},
   "outputs": [],
   "source": [
    "group1_train = group1[group1[\"deal\"].isna()==False]\n",
    "X_group1_train = group1_train[\"diff\"].values.reshape(-1,1)\n",
    "y_group1_train = list(map(float,group1_train[\"deal\"].values)) # This is to transform float data to int\n",
    "lr_group1 = LogisticRegression(penalty='none').fit(X_group1_train,y_group1_train)"
   ]
  },
  {
   "cell_type": "markdown",
   "id": "dc8a75b0",
   "metadata": {},
   "source": [
    "##### Predict the probability of trading of group1"
   ]
  },
  {
   "cell_type": "code",
   "execution_count": 59,
   "id": "560bcb65",
   "metadata": {},
   "outputs": [
    {
     "data": {
      "text/html": [
       "<div>\n",
       "<style scoped>\n",
       "    .dataframe tbody tr th:only-of-type {\n",
       "        vertical-align: middle;\n",
       "    }\n",
       "\n",
       "    .dataframe tbody tr th {\n",
       "        vertical-align: top;\n",
       "    }\n",
       "\n",
       "    .dataframe thead th {\n",
       "        text-align: right;\n",
       "    }\n",
       "</style>\n",
       "<table border=\"1\" class=\"dataframe\">\n",
       "  <thead>\n",
       "    <tr style=\"text-align: right;\">\n",
       "      <th></th>\n",
       "      <th>P('deal' = 0)</th>\n",
       "      <th>P('deal' = 1)</th>\n",
       "    </tr>\n",
       "  </thead>\n",
       "  <tbody>\n",
       "    <tr>\n",
       "      <th>0</th>\n",
       "      <td>0.173615</td>\n",
       "      <td>0.826385</td>\n",
       "    </tr>\n",
       "    <tr>\n",
       "      <th>1</th>\n",
       "      <td>0.021819</td>\n",
       "      <td>0.978181</td>\n",
       "    </tr>\n",
       "    <tr>\n",
       "      <th>2</th>\n",
       "      <td>0.999877</td>\n",
       "      <td>0.000123</td>\n",
       "    </tr>\n",
       "    <tr>\n",
       "      <th>3</th>\n",
       "      <td>0.862944</td>\n",
       "      <td>0.137056</td>\n",
       "    </tr>\n",
       "    <tr>\n",
       "      <th>4</th>\n",
       "      <td>0.994728</td>\n",
       "      <td>0.005272</td>\n",
       "    </tr>\n",
       "    <tr>\n",
       "      <th>...</th>\n",
       "      <td>...</td>\n",
       "      <td>...</td>\n",
       "    </tr>\n",
       "    <tr>\n",
       "      <th>87</th>\n",
       "      <td>0.999997</td>\n",
       "      <td>0.000003</td>\n",
       "    </tr>\n",
       "    <tr>\n",
       "      <th>88</th>\n",
       "      <td>0.023418</td>\n",
       "      <td>0.976582</td>\n",
       "    </tr>\n",
       "    <tr>\n",
       "      <th>89</th>\n",
       "      <td>0.000518</td>\n",
       "      <td>0.999482</td>\n",
       "    </tr>\n",
       "    <tr>\n",
       "      <th>90</th>\n",
       "      <td>0.272601</td>\n",
       "      <td>0.727399</td>\n",
       "    </tr>\n",
       "    <tr>\n",
       "      <th>91</th>\n",
       "      <td>0.997781</td>\n",
       "      <td>0.002219</td>\n",
       "    </tr>\n",
       "  </tbody>\n",
       "</table>\n",
       "<p>92 rows × 2 columns</p>\n",
       "</div>"
      ],
      "text/plain": [
       "    P('deal' = 0)  P('deal' = 1)\n",
       "0        0.173615       0.826385\n",
       "1        0.021819       0.978181\n",
       "2        0.999877       0.000123\n",
       "3        0.862944       0.137056\n",
       "4        0.994728       0.005272\n",
       "..            ...            ...\n",
       "87       0.999997       0.000003\n",
       "88       0.023418       0.976582\n",
       "89       0.000518       0.999482\n",
       "90       0.272601       0.727399\n",
       "91       0.997781       0.002219\n",
       "\n",
       "[92 rows x 2 columns]"
      ]
     },
     "execution_count": 59,
     "metadata": {},
     "output_type": "execute_result"
    }
   ],
   "source": [
    "group1_test = group1[group1[\"deal\"].isna()]# test set on  the 200 last rows on the data\n",
    "X_group1_test = group1_test[\"diff\"].values.reshape(-1,1)\n",
    "result_group1 = pd.DataFrame(lr_group1.predict_proba(X_group1_test))\n",
    "result_group1.rename(columns = {0:'P(\\'deal\\' = 0)', 1:'P(\\'deal\\' = 1)'}, inplace = True)\n",
    "result_group1"
   ]
  },
  {
   "cell_type": "markdown",
   "id": "74a76912",
   "metadata": {},
   "source": [
    "##### Create a train data and logistic regression for group2"
   ]
  },
  {
   "cell_type": "code",
   "execution_count": 43,
   "id": "8e383418",
   "metadata": {},
   "outputs": [
    {
     "data": {
      "text/plain": [
       "LogisticRegression(penalty='none')"
      ]
     },
     "execution_count": 43,
     "metadata": {},
     "output_type": "execute_result"
    }
   ],
   "source": [
    "group2_train = group2[group2[\"deal\"].isna()==False]\n",
    "X_group2_train = group2_train[\"diff\"].values.reshape(-1,1)\n",
    "y_group2_train = list(map(int,group2_train[\"deal\"].values)) # This is to transform float data to int\n",
    "lr_group2 = LogisticRegression(penalty='none').fit(X_group1_train,y_group1_train)\n",
    "lr_group2"
   ]
  },
  {
   "cell_type": "markdown",
   "id": "a9cbf032",
   "metadata": {},
   "source": [
    "##### Predict the probality for trading of group 2"
   ]
  },
  {
   "cell_type": "code",
   "execution_count": 60,
   "id": "5a05c1df",
   "metadata": {},
   "outputs": [
    {
     "data": {
      "text/html": [
       "<div>\n",
       "<style scoped>\n",
       "    .dataframe tbody tr th:only-of-type {\n",
       "        vertical-align: middle;\n",
       "    }\n",
       "\n",
       "    .dataframe tbody tr th {\n",
       "        vertical-align: top;\n",
       "    }\n",
       "\n",
       "    .dataframe thead th {\n",
       "        text-align: right;\n",
       "    }\n",
       "</style>\n",
       "<table border=\"1\" class=\"dataframe\">\n",
       "  <thead>\n",
       "    <tr style=\"text-align: right;\">\n",
       "      <th></th>\n",
       "      <th>P('deal' = 0)</th>\n",
       "      <th>P('deal' = 1)</th>\n",
       "    </tr>\n",
       "  </thead>\n",
       "  <tbody>\n",
       "    <tr>\n",
       "      <th>0</th>\n",
       "      <td>0.000015</td>\n",
       "      <td>0.999985</td>\n",
       "    </tr>\n",
       "    <tr>\n",
       "      <th>1</th>\n",
       "      <td>0.999996</td>\n",
       "      <td>0.000004</td>\n",
       "    </tr>\n",
       "    <tr>\n",
       "      <th>2</th>\n",
       "      <td>0.000202</td>\n",
       "      <td>0.999798</td>\n",
       "    </tr>\n",
       "    <tr>\n",
       "      <th>3</th>\n",
       "      <td>0.002363</td>\n",
       "      <td>0.997637</td>\n",
       "    </tr>\n",
       "    <tr>\n",
       "      <th>4</th>\n",
       "      <td>0.900401</td>\n",
       "      <td>0.099599</td>\n",
       "    </tr>\n",
       "    <tr>\n",
       "      <th>...</th>\n",
       "      <td>...</td>\n",
       "      <td>...</td>\n",
       "    </tr>\n",
       "    <tr>\n",
       "      <th>103</th>\n",
       "      <td>0.018936</td>\n",
       "      <td>0.981064</td>\n",
       "    </tr>\n",
       "    <tr>\n",
       "      <th>104</th>\n",
       "      <td>0.561779</td>\n",
       "      <td>0.438221</td>\n",
       "    </tr>\n",
       "    <tr>\n",
       "      <th>105</th>\n",
       "      <td>0.999988</td>\n",
       "      <td>0.000012</td>\n",
       "    </tr>\n",
       "    <tr>\n",
       "      <th>106</th>\n",
       "      <td>0.015298</td>\n",
       "      <td>0.984702</td>\n",
       "    </tr>\n",
       "    <tr>\n",
       "      <th>107</th>\n",
       "      <td>0.999395</td>\n",
       "      <td>0.000605</td>\n",
       "    </tr>\n",
       "  </tbody>\n",
       "</table>\n",
       "<p>108 rows × 2 columns</p>\n",
       "</div>"
      ],
      "text/plain": [
       "     P('deal' = 0)  P('deal' = 1)\n",
       "0         0.000015       0.999985\n",
       "1         0.999996       0.000004\n",
       "2         0.000202       0.999798\n",
       "3         0.002363       0.997637\n",
       "4         0.900401       0.099599\n",
       "..             ...            ...\n",
       "103       0.018936       0.981064\n",
       "104       0.561779       0.438221\n",
       "105       0.999988       0.000012\n",
       "106       0.015298       0.984702\n",
       "107       0.999395       0.000605\n",
       "\n",
       "[108 rows x 2 columns]"
      ]
     },
     "execution_count": 60,
     "metadata": {},
     "output_type": "execute_result"
    }
   ],
   "source": [
    "group2_test = group2[group2[\"deal\"].isna()]#test set on the 200 last rows\n",
    "X_group2_test = group2_test[\"diff\"].values.reshape(-1,1)\n",
    "result_group2 = pd.DataFrame(lr_group2.predict_proba(X_group2_test))\n",
    "result_group2.rename(columns = {0:'P(\\'deal\\' = 0)', 1:'P(\\'deal\\' = 1)'}, inplace = True)\n",
    "result_group2"
   ]
  },
  {
   "cell_type": "code",
   "execution_count": null,
   "id": "f9d16894",
   "metadata": {},
   "outputs": [],
   "source": []
  }
 ],
 "metadata": {
  "kernelspec": {
   "display_name": "Python 3 (ipykernel)",
   "language": "python",
   "name": "python3"
  },
  "language_info": {
   "codemirror_mode": {
    "name": "ipython",
    "version": 3
   },
   "file_extension": ".py",
   "mimetype": "text/x-python",
   "name": "python",
   "nbconvert_exporter": "python",
   "pygments_lexer": "ipython3",
   "version": "3.8.12"
  }
 },
 "nbformat": 4,
 "nbformat_minor": 5
}
